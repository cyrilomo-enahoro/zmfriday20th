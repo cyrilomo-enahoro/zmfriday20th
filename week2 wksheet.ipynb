{
 "cells": [
  {
   "cell_type": "code",
   "execution_count": 12,
   "id": "8fe56892",
   "metadata": {},
   "outputs": [
    {
     "data": {
      "text/plain": [
       "1500"
      ]
     },
     "execution_count": 12,
     "metadata": {},
     "output_type": "execute_result"
    }
   ],
   "source": [
    "def highest_number(num1, num2, num3):\n",
    "    if num1 > num2 and num1 > num3:\n",
    "        return num1\n",
    "    elif num2 > num1 and num2 > num3:\n",
    "        return num2\n",
    "    else:\n",
    "        return num3\n",
    "\n",
    "highest_number(100,150,1500)"
   ]
  },
  {
   "cell_type": "code",
   "execution_count": 10,
   "id": "880ae30e",
   "metadata": {},
   "outputs": [
    {
     "name": "stdout",
     "output_type": "stream",
     "text": [
      "1\n",
      "2\n",
      "3\n",
      "4\n",
      "5\n",
      "6\n",
      "7\n",
      "8\n",
      "9\n",
      "10\n"
     ]
    }
   ],
   "source": [
    "x=1\n",
    "while x <= 10:\n",
    "    print(x)\n",
    "    x = x + 1\n"
   ]
  },
  {
   "cell_type": "markdown",
   "id": "f1150064",
   "metadata": {},
   "source": [
    "Write a while loop that adds all the numbers up to 100 (inclusive)"
   ]
  },
  {
   "cell_type": "code",
   "execution_count": 8,
   "id": "8d79cc49",
   "metadata": {},
   "outputs": [
    {
     "name": "stdout",
     "output_type": "stream",
     "text": [
      "5050\n"
     ]
    }
   ],
   "source": [
    "count = 0\n",
    "total = 0\n",
    "while count <= 100:\n",
    "    total = total + count\n",
    "    count += 1\n",
    "print(total)"
   ]
  },
  {
   "cell_type": "markdown",
   "id": "eeab1194",
   "metadata": {},
   "source": [
    "write while loop that prints the multiples of 5 between 1 and 50."
   ]
  },
  {
   "cell_type": "code",
   "execution_count": 2,
   "id": "f72920fb",
   "metadata": {},
   "outputs": [
    {
     "name": "stdout",
     "output_type": "stream",
     "text": [
      "5\n",
      "10\n",
      "15\n",
      "20\n",
      "25\n",
      "30\n",
      "35\n",
      "40\n",
      "45\n",
      "50\n"
     ]
    }
   ],
   "source": [
    "count = 1\n",
    "multiples = 5\n",
    "while multiples <= 50:\n",
    "    print(multiples)\n",
    "    count += 1\n",
    "    multiples = count * 5"
   ]
  },
  {
   "cell_type": "code",
   "execution_count": null,
   "id": "a58f5506",
   "metadata": {},
   "outputs": [],
   "source": []
  },
  {
   "cell_type": "code",
   "execution_count": 9,
   "id": "d1773649",
   "metadata": {},
   "outputs": [
    {
     "name": "stdout",
     "output_type": "stream",
     "text": [
      "1\n",
      "2\n",
      "3\n",
      "4\n",
      "5\n",
      "6\n",
      "7\n",
      "8\n",
      "9\n",
      "10\n"
     ]
    }
   ],
   "source": [
    "def print_numbers(n):\n",
    "    x = 1\n",
    "    while x <= n:\n",
    "        print(x)\n",
    "        x += 1\n",
    "print_numbers(10)            "
   ]
  },
  {
   "cell_type": "code",
   "execution_count": 10,
   "id": "357caedc",
   "metadata": {},
   "outputs": [
    {
     "name": "stdout",
     "output_type": "stream",
     "text": [
      "2\n",
      "4\n",
      "6\n",
      "8\n",
      "10\n"
     ]
    }
   ],
   "source": [
    "def print_numbers(n):\n",
    "    x = 2\n",
    "    while x <= n:\n",
    "        print(x)\n",
    "        x += 2\n",
    "print_numbers(10)"
   ]
  },
  {
   "cell_type": "code",
   "execution_count": null,
   "id": "af7ae552",
   "metadata": {},
   "outputs": [],
   "source": [
    "def reverse_digits(n):\n",
    "    \n",
    "    if n < 0:\n",
    "        print(\"None\")\n",
    "    \n",
    "    forward = \"\"\n",
    "    backward = \"\"\n",
    "    "
   ]
  },
  {
   "cell_type": "code",
   "execution_count": 1,
   "id": "88cb4eb1",
   "metadata": {},
   "outputs": [
    {
     "name": "stdout",
     "output_type": "stream",
     "text": [
      "12\n",
      "18\n",
      "24\n",
      "30\n",
      "36\n"
     ]
    }
   ],
   "source": [
    "for n in range(12,37,6):\n",
    "    print(n)"
   ]
  },
  {
   "cell_type": "code",
   "execution_count": 3,
   "id": "112531be",
   "metadata": {},
   "outputs": [
    {
     "name": "stdout",
     "output_type": "stream",
     "text": [
      "0\n",
      "2\n",
      "4\n",
      "6\n",
      "8\n",
      "10\n",
      "12\n",
      "14\n",
      "16\n",
      "18\n"
     ]
    }
   ],
   "source": [
    "for x in range(0,19, 2):\n",
    "    print(x)"
   ]
  },
  {
   "cell_type": "code",
   "execution_count": 4,
   "id": "07e499c9",
   "metadata": {},
   "outputs": [
    {
     "name": "stdout",
     "output_type": "stream",
     "text": [
      "1\n",
      "8\n",
      "27\n",
      "64\n",
      "125\n",
      "216\n",
      "343\n",
      "512\n",
      "729\n",
      "1000\n"
     ]
    }
   ],
   "source": [
    "for x in range(1, 11):\n",
    "    print(x**3)"
   ]
  },
  {
   "cell_type": "code",
   "execution_count": 5,
   "id": "b6c2bd03",
   "metadata": {},
   "outputs": [
    {
     "name": "stdout",
     "output_type": "stream",
     "text": [
      "0\n",
      "7\n",
      "14\n",
      "21\n",
      "28\n",
      "35\n",
      "42\n",
      "49\n",
      "56\n",
      "63\n",
      "70\n",
      "77\n",
      "84\n",
      "91\n",
      "98\n"
     ]
    }
   ],
   "source": [
    "for x in range(0,101, 7):\n",
    "    print(x)"
   ]
  },
  {
   "cell_type": "code",
   "execution_count": 1,
   "id": "40823d47",
   "metadata": {},
   "outputs": [],
   "source": [
    "name = 'Daniel'\n",
    "age = '38'"
   ]
  },
  {
   "cell_type": "code",
   "execution_count": 3,
   "id": "f629039d",
   "metadata": {},
   "outputs": [
    {
     "name": "stdout",
     "output_type": "stream",
     "text": [
      "He is Daniel aged 38\n"
     ]
    }
   ],
   "source": [
    "print('He is ' + name, 'aged ' +  age)"
   ]
  },
  {
   "cell_type": "code",
   "execution_count": 5,
   "id": "19a881af",
   "metadata": {},
   "outputs": [],
   "source": [
    "color = 'black' * 5"
   ]
  },
  {
   "cell_type": "code",
   "execution_count": 6,
   "id": "200c3a58",
   "metadata": {},
   "outputs": [
    {
     "name": "stdout",
     "output_type": "stream",
     "text": [
      "blackblackblackblackblack\n"
     ]
    }
   ],
   "source": [
    "print(color)"
   ]
  },
  {
   "cell_type": "code",
   "execution_count": 7,
   "id": "821713e2",
   "metadata": {},
   "outputs": [
    {
     "data": {
      "text/plain": [
       "25"
      ]
     },
     "execution_count": 7,
     "metadata": {},
     "output_type": "execute_result"
    }
   ],
   "source": [
    "len(color)"
   ]
  },
  {
   "cell_type": "code",
   "execution_count": 9,
   "id": "38107ff0",
   "metadata": {},
   "outputs": [],
   "source": [
    "word = 'He is Daniel aged 38'"
   ]
  },
  {
   "cell_type": "code",
   "execution_count": 10,
   "id": "459d1627",
   "metadata": {},
   "outputs": [
    {
     "data": {
      "text/plain": [
       "'H'"
      ]
     },
     "execution_count": 10,
     "metadata": {},
     "output_type": "execute_result"
    }
   ],
   "source": [
    "word[0]"
   ]
  },
  {
   "cell_type": "code",
   "execution_count": 21,
   "id": "f70205ab",
   "metadata": {},
   "outputs": [
    {
     "data": {
      "text/plain": [
       "'Daniel aged 38'"
      ]
     },
     "execution_count": 21,
     "metadata": {},
     "output_type": "execute_result"
    }
   ],
   "source": [
    "word[-14:]"
   ]
  },
  {
   "cell_type": "code",
   "execution_count": 22,
   "id": "93663223",
   "metadata": {},
   "outputs": [],
   "source": [
    "words = 'He is Deniel aged 38'"
   ]
  },
  {
   "cell_type": "code",
   "execution_count": 27,
   "id": "23ba9cac",
   "metadata": {},
   "outputs": [
    {
     "data": {
      "text/plain": [
       "'He is Daniel aged 38'"
      ]
     },
     "execution_count": 27,
     "metadata": {},
     "output_type": "execute_result"
    }
   ],
   "source": [
    "words[:7] + 'a' + words[8:]"
   ]
  },
  {
   "cell_type": "code",
   "execution_count": null,
   "id": "22385c69",
   "metadata": {},
   "outputs": [],
   "source": []
  },
  {
   "cell_type": "code",
   "execution_count": 28,
   "id": "68b70b79",
   "metadata": {},
   "outputs": [],
   "source": [
    "wordz = \"supercalifragilisticexpialidocious\""
   ]
  },
  {
   "cell_type": "code",
   "execution_count": 33,
   "id": "4a58f737",
   "metadata": {},
   "outputs": [
    {
     "data": {
      "text/plain": [
       "30"
      ]
     },
     "execution_count": 33,
     "metadata": {},
     "output_type": "execute_result"
    }
   ],
   "source": [
    "wordz.index('x')+ wordz.index('f')"
   ]
  },
  {
   "cell_type": "code",
   "execution_count": null,
   "id": "2b8a8965",
   "metadata": {},
   "outputs": [],
   "source": []
  },
  {
   "cell_type": "code",
   "execution_count": null,
   "id": "15bbaa58",
   "metadata": {},
   "outputs": [],
   "source": [
    "words = 'He is Deniel aged 38'"
   ]
  },
  {
   "cell_type": "code",
   "execution_count": null,
   "id": "df5f9849",
   "metadata": {},
   "outputs": [],
   "source": [
    "\" \".join([\"This\",\"is\",\"a\",\"sentence\"])"
   ]
  },
  {
   "cell_type": "code",
   "execution_count": null,
   "id": "bd2f5df3",
   "metadata": {},
   "outputs": [],
   "source": []
  },
  {
   "cell_type": "code",
   "execution_count": 2,
   "id": "63e353aa",
   "metadata": {},
   "outputs": [],
   "source": [
    "words = (\"This is a lesson about lists\")\n",
    "new_word = words.split()"
   ]
  },
  {
   "cell_type": "code",
   "execution_count": 3,
   "id": "7b3311c4",
   "metadata": {},
   "outputs": [
    {
     "name": "stdout",
     "output_type": "stream",
     "text": [
      "['This', 'is', 'a', 'lesson', 'about', 'lists']\n"
     ]
    }
   ],
   "source": [
    "print(new_word)"
   ]
  },
  {
   "cell_type": "code",
   "execution_count": 4,
   "id": "a92679dd",
   "metadata": {},
   "outputs": [
    {
     "data": {
      "text/plain": [
       "6"
      ]
     },
     "execution_count": 4,
     "metadata": {},
     "output_type": "execute_result"
    }
   ],
   "source": [
    "len(new_word)"
   ]
  },
  {
   "cell_type": "code",
   "execution_count": 5,
   "id": "342f5a0e",
   "metadata": {},
   "outputs": [
    {
     "data": {
      "text/plain": [
       "'lesson'"
      ]
     },
     "execution_count": 5,
     "metadata": {},
     "output_type": "execute_result"
    }
   ],
   "source": [
    "new_word[3]"
   ]
  },
  {
   "cell_type": "code",
   "execution_count": 11,
   "id": "0c0c7f7c",
   "metadata": {},
   "outputs": [
    {
     "name": "stdout",
     "output_type": "stream",
     "text": [
      "0 10 20 30 40 50 60 70 80 90 100\n"
     ]
    }
   ],
   "source": [
    "# This function will accept an integer variable \"end\" and count by 10\n",
    "# from 0 to the \"end\" value.\n",
    "def count_by_10(end):\n",
    "    # Initializeq the \"count\" variable as a string.\n",
    "    count = \"\"\n",
    "\n",
    "    # The range function parameters instruct Python to start the count  \n",
    "    # at 0 and stop at the variable given as the upper end of the range. \n",
    "    # Since the value of the high end of a range is excluded by default,  \n",
    "    # you can make Python include the \"end\" value by adding +1 to it. \n",
    "    # The third parameter tells Python to increment the count by 10.\n",
    "    for number in range(0,end+1,10):\n",
    "        \n",
    "        # Although the variable \"count\" will hold a count of integers,  \n",
    "        # this example will be converted to a string using \"str(number)\" \n",
    "        # in order to display the incremental count from 0 to the \"end\" \n",
    "        # value on the same line with a space \" \" separating each \n",
    "        # number.  \n",
    "        count += str(number) + \" \"\n",
    "    # The .strip() method will trim the final space \" \" from the end of \n",
    "    # the string \"count\"  \n",
    "    return count.strip()\n",
    "\n",
    "# Call the function with 1 integer parameter.\n",
    "print(count_by_10(100))\n",
    "# Should print 0 10 20 30 40 50 60 70 80 90 100"
   ]
  },
  {
   "cell_type": "code",
   "execution_count": null,
   "id": "e1111ecc",
   "metadata": {},
   "outputs": [],
   "source": []
  },
  {
   "cell_type": "code",
   "execution_count": 14,
   "id": "e9dc9958",
   "metadata": {},
   "outputs": [],
   "source": [
    "def even_number(n):\n",
    "    x = 2\n",
    "    while x <= n:\n",
    "        print(x)\n",
    "        x += 2"
   ]
  },
  {
   "cell_type": "code",
   "execution_count": 15,
   "id": "44729ab9",
   "metadata": {},
   "outputs": [
    {
     "name": "stdout",
     "output_type": "stream",
     "text": [
      "2\n",
      "4\n",
      "6\n",
      "8\n",
      "10\n",
      "12\n",
      "14\n",
      "16\n",
      "18\n",
      "20\n"
     ]
    }
   ],
   "source": [
    "even_number(20)"
   ]
  },
  {
   "cell_type": "code",
   "execution_count": null,
   "id": "048fcf3b",
   "metadata": {},
   "outputs": [],
   "source": []
  },
  {
   "cell_type": "code",
   "execution_count": null,
   "id": "b7c44e8e",
   "metadata": {},
   "outputs": [],
   "source": []
  },
  {
   "cell_type": "code",
   "execution_count": null,
   "id": "b532f827",
   "metadata": {},
   "outputs": [],
   "source": []
  },
  {
   "cell_type": "code",
   "execution_count": null,
   "id": "52351812",
   "metadata": {},
   "outputs": [],
   "source": []
  },
  {
   "cell_type": "code",
   "execution_count": null,
   "id": "1bbb278b",
   "metadata": {},
   "outputs": [],
   "source": []
  },
  {
   "cell_type": "code",
   "execution_count": null,
   "id": "7bff4d7d",
   "metadata": {},
   "outputs": [],
   "source": []
  },
  {
   "cell_type": "code",
   "execution_count": null,
   "id": "92a16c09",
   "metadata": {},
   "outputs": [],
   "source": []
  },
  {
   "cell_type": "code",
   "execution_count": null,
   "id": "fc83884d",
   "metadata": {},
   "outputs": [],
   "source": []
  },
  {
   "cell_type": "code",
   "execution_count": null,
   "id": "9d7eff04",
   "metadata": {},
   "outputs": [],
   "source": []
  },
  {
   "cell_type": "code",
   "execution_count": null,
   "id": "fbbc6e1e",
   "metadata": {},
   "outputs": [],
   "source": []
  },
  {
   "cell_type": "code",
   "execution_count": null,
   "id": "b8c61551",
   "metadata": {},
   "outputs": [],
   "source": []
  },
  {
   "cell_type": "code",
   "execution_count": null,
   "id": "65dbc8de",
   "metadata": {},
   "outputs": [],
   "source": []
  },
  {
   "cell_type": "code",
   "execution_count": null,
   "id": "3222c7ba",
   "metadata": {},
   "outputs": [],
   "source": []
  },
  {
   "cell_type": "code",
   "execution_count": null,
   "id": "b558c465",
   "metadata": {},
   "outputs": [],
   "source": []
  },
  {
   "cell_type": "code",
   "execution_count": null,
   "id": "e562f0ff",
   "metadata": {},
   "outputs": [],
   "source": []
  }
 ],
 "metadata": {
  "kernelspec": {
   "display_name": "Python 3 (ipykernel)",
   "language": "python",
   "name": "python3"
  },
  "language_info": {
   "codemirror_mode": {
    "name": "ipython",
    "version": 3
   },
   "file_extension": ".py",
   "mimetype": "text/x-python",
   "name": "python",
   "nbconvert_exporter": "python",
   "pygments_lexer": "ipython3",
   "version": "3.11.4"
  }
 },
 "nbformat": 4,
 "nbformat_minor": 5
}
